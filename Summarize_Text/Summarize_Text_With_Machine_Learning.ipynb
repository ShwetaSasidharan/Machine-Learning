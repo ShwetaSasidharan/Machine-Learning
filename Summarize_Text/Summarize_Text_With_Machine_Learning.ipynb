{
 "cells": [
  {
   "cell_type": "code",
   "execution_count": 1,
   "metadata": {},
   "outputs": [
    {
     "name": "stderr",
     "output_type": "stream",
     "text": [
      "[nltk_data] Downloading package punkt to\n",
      "[nltk_data]     C:\\Users\\admin\\AppData\\Roaming\\nltk_data...\n",
      "[nltk_data]   Package punkt is already up-to-date!\n"
     ]
    }
   ],
   "source": [
    "import pandas as pd\n",
    "import numpy as np\n",
    "import nltk\n",
    "nltk.download('punkt')\n",
    "import re\n",
    "from nltk.corpus import stopwords"
   ]
  },
  {
   "cell_type": "code",
   "execution_count": 2,
   "metadata": {},
   "outputs": [
    {
     "data": {
      "text/html": [
       "<div>\n",
       "<style scoped>\n",
       "    .dataframe tbody tr th:only-of-type {\n",
       "        vertical-align: middle;\n",
       "    }\n",
       "\n",
       "    .dataframe tbody tr th {\n",
       "        vertical-align: top;\n",
       "    }\n",
       "\n",
       "    .dataframe thead th {\n",
       "        text-align: right;\n",
       "    }\n",
       "</style>\n",
       "<table border=\"1\" class=\"dataframe\">\n",
       "  <thead>\n",
       "    <tr style=\"text-align: right;\">\n",
       "      <th></th>\n",
       "      <th>article_id</th>\n",
       "      <th>article_text</th>\n",
       "      <th>source</th>\n",
       "    </tr>\n",
       "  </thead>\n",
       "  <tbody>\n",
       "    <tr>\n",
       "      <th>0</th>\n",
       "      <td>1</td>\n",
       "      <td>If you stop and think about it, you can probab...</td>\n",
       "      <td>https://study.com/academy/lesson/animal-body-p...</td>\n",
       "    </tr>\n",
       "    <tr>\n",
       "      <th>1</th>\n",
       "      <td>2</td>\n",
       "      <td>It all depends on what’s in the atmosphere! Fo...</td>\n",
       "      <td>https://spaceplace.nasa.gov/blue-sky/en/</td>\n",
       "    </tr>\n",
       "    <tr>\n",
       "      <th>2</th>\n",
       "      <td>3</td>\n",
       "      <td>A lot of the Australian middle order will be s...</td>\n",
       "      <td>https://www.abc.net.au/news/2021-01-16/austral...</td>\n",
       "    </tr>\n",
       "  </tbody>\n",
       "</table>\n",
       "</div>"
      ],
      "text/plain": [
       "   article_id                                       article_text  \\\n",
       "0           1  If you stop and think about it, you can probab...   \n",
       "1           2  It all depends on what’s in the atmosphere! Fo...   \n",
       "2           3  A lot of the Australian middle order will be s...   \n",
       "\n",
       "                                              source  \n",
       "0  https://study.com/academy/lesson/animal-body-p...  \n",
       "1           https://spaceplace.nasa.gov/blue-sky/en/  \n",
       "2  https://www.abc.net.au/news/2021-01-16/austral...  "
      ]
     },
     "execution_count": 2,
     "metadata": {},
     "output_type": "execute_result"
    }
   ],
   "source": [
    "\n",
    "df = pd.read_csv(\"Sentiment_Analysis.txt\")\n",
    "df.head()"
   ]
  },
  {
   "cell_type": "code",
   "execution_count": 3,
   "metadata": {},
   "outputs": [],
   "source": [
    "from nltk.tokenize import sent_tokenize\n",
    "sentences = []\n",
    "for s in df['article_text']:\n",
    "    sentences.append(sent_tokenize(s))\n",
    "\n",
    "sentences = [y for x in sentences for y in x]"
   ]
  },
  {
   "cell_type": "code",
   "execution_count": 4,
   "metadata": {},
   "outputs": [
    {
     "name": "stderr",
     "output_type": "stream",
     "text": [
      "C:\\Users\\admin\\Anaconda3\\envs\\R-TUTT\\lib\\site-packages\\ipykernel_launcher.py:1: FutureWarning: The default value of regex will change from True to False in a future version.\n",
      "  \"\"\"Entry point for launching an IPython kernel.\n"
     ]
    }
   ],
   "source": [
    "clean_sentences = pd.Series(sentences).str.replace(\"[^a-zA-Z]\", \" \")\n",
    "clean_sentences = [s.lower() for s in clean_sentences]\n",
    "stop_words = stopwords.words('english')\n",
    "def remove_stopwords(sen):\n",
    "    sen_new = \" \".join([i for i in sen if i not in stop_words])\n",
    "    return sen_new\n",
    "clean_sentences = [remove_stopwords(r.split()) for r in clean_sentences]"
   ]
  },
  {
   "cell_type": "code",
   "execution_count": 5,
   "metadata": {},
   "outputs": [],
   "source": [
    "sentence_vectors = []\n",
    "word_embeddings = {}\n",
    "for i in clean_sentences:\n",
    "    if len(i) != 0:\n",
    "        v = sum([word_embeddings.get(w, np.zeros((100,))) for w in i.split()])/(len(i.split())+0.001)\n",
    "    else:\n",
    "        v = np.zeros((100,))\n",
    "    sentence_vectors.append(v)"
   ]
  },
  {
   "cell_type": "code",
   "execution_count": 6,
   "metadata": {},
   "outputs": [],
   "source": [
    "sim_mat = np.zeros([len(sentences), len(sentences)])\n",
    "from sklearn.metrics.pairwise import cosine_similarity\n",
    "for i in range(len(sentences)):\n",
    "      for j in range(len(sentences)):\n",
    "        if i != j:\n",
    "              sim_mat[i][j] = cosine_similarity(sentence_vectors[i].reshape(1,100), sentence_vectors[j].reshape(1,100))[0,0]"
   ]
  },
  {
   "cell_type": "code",
   "execution_count": 7,
   "metadata": {},
   "outputs": [],
   "source": [
    "import networkx as nx\n",
    "\n",
    "nx_graph = nx.from_numpy_array(sim_mat)\n",
    "scores = nx.pagerank(nx_graph)"
   ]
  },
  {
   "cell_type": "code",
   "execution_count": 8,
   "metadata": {},
   "outputs": [
    {
     "name": "stdout",
     "output_type": "stream",
     "text": [
      "ARTICLE:\n",
      "If you stop and think about it, you can probably come up with a long list of the different types of animals found on Earth. But there are so many more than that! I bet there are some that you have never even heard of or didn't even know were considered animals.The diversity of animal life on Earth is indeed quite vast. Fortunately, there are ways to make sense of it. We do this by classifying animals based on certain body structures as well as how those body structures are combined to make a whole animal.Together the organization and combination of body structures describes an animal's body plan. For example, you have legs, which is one of your body structures. But you are quite different from a crayfish, which also has legs! Our overall combination of body structures - our body plan - is not even close to that of a crayfish, even though we share some of the same structures. And this combination and organization of structures is how we differentiate between different types of animals.Types of Symmetry\n",
      "\n",
      "\n",
      "SUMMARY:\n",
      "We do this by classifying animals based on certain body structures as well as how those body structures are combined to make a whole animal.Together the organization and combination of body structures describes an animal's body plan.\n",
      "\n",
      "\n",
      "ARTICLE:\n",
      "It all depends on what’s in the atmosphere! For example, Mars has a very thin atmosphere made mostly of carbon dioxide and filled with fine dust particles. These fine particles scatter light differently than the gases and particles in Earth’s atmosphere. Photos from NASA’s rovers and landers on Mars have shown us that at sunset there is actually the opposite of what you’d experience on Earth. During the daytime, the Martian sky takes on an orange or reddish color. But as the Sun sets, the sky around the Sun begins to take on a blue-gray tone.\n",
      "\n",
      "\n",
      "SUMMARY:\n",
      "These fine particles scatter light differently than the gases and particles in Earth’s atmosphere.\n",
      "\n",
      "\n",
      "ARTICLE:\n",
      "A lot of the Australian middle order will be saying 'what if?'. It's still a comanding position for Australia, but the way this bowling attack has been weakened by yet another injury, Australia will feel there's a few runs out there. Nonethelss India are going to come out there with a tricky period going forward, particularly with some rain forecast. There might be some extra humidity and some cloud around. It's going to be a tremendous challenge for the Indian batsmen.\n",
      "\n",
      "\n",
      "SUMMARY:\n",
      "There might be some extra humidity and some cloud around.\n",
      "\n",
      "\n"
     ]
    }
   ],
   "source": [
    "ranked_sentences = sorted(((scores[i],s) for i,s in enumerate(sentences)), reverse=True)\n",
    "for i in range(3):\n",
    "    print(\"ARTICLE:\")\n",
    "    print(df['article_text'][i])\n",
    "    print('\\n')\n",
    "    print(\"SUMMARY:\")\n",
    "    print(ranked_sentences[i][1])\n",
    "    print('\\n')"
   ]
  },
  {
   "cell_type": "code",
   "execution_count": null,
   "metadata": {},
   "outputs": [],
   "source": []
  }
 ],
 "metadata": {
  "kernelspec": {
   "display_name": "Python 3",
   "language": "python",
   "name": "python3"
  },
  "language_info": {
   "codemirror_mode": {
    "name": "ipython",
    "version": 3
   },
   "file_extension": ".py",
   "mimetype": "text/x-python",
   "name": "python",
   "nbconvert_exporter": "python",
   "pygments_lexer": "ipython3",
   "version": "3.7.9"
  }
 },
 "nbformat": 4,
 "nbformat_minor": 2
}
